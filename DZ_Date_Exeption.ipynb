{
 "cells": [
  {
   "cell_type": "code",
   "execution_count": null,
   "metadata": {},
   "outputs": [],
   "source": [
    "# Задание 1\n",
    "# Печатные газеты использовали свой формат дат для каждого выпуска. Для каждой газеты из списка напишите формат \n",
    "# указанной даты для перевода в объект datetime:\n",
    "# The Moscow Times - Wednesday, October 2, 2002\n",
    "# The Guardian - Friday, 11.10.13\n",
    "# Daily News - Thursday, 18 August 1977\n"
   ]
  },
  {
   "cell_type": "code",
   "execution_count": 7,
   "metadata": {},
   "outputs": [],
   "source": [
    "# Задание 1\n",
    "from datetime import datetime\n",
    "# The Moscow Times - Wednesday, October 2, 2002\n",
    "Date_str_MT = \"Wednesday, October 2, 2002\"\n",
    "Date_dt_MT = datetime.strptime(Date_str_MT,'%A, %B %d, %Y')\n",
    "# The Guardian - Friday, 11.10.13\n",
    "Date_str_G = \"Friday, 11.10.13\"\n",
    "Date_dt_G = datetime.strptime(Date_str_G,'%A, %d.%m.%y')\n",
    "# Daily News - Thursday, 18 August 1977\n",
    "Date_str_DN = \"Thursday, 18 August 1977\"\n",
    "Date_dt_DN = datetime.strptime(Date_str_DN,'%A, %d %B %Y')"
   ]
  },
  {
   "cell_type": "code",
   "execution_count": 8,
   "metadata": {},
   "outputs": [
    {
     "data": {
      "text/plain": [
       "datetime.datetime(1977, 8, 18, 0, 0)"
      ]
     },
     "execution_count": 8,
     "metadata": {},
     "output_type": "execute_result"
    }
   ],
   "source": [
    "#Date_dt_MT\n",
    "#Date_dt_G\n",
    "Date_dt_DN"
   ]
  },
  {
   "cell_type": "code",
   "execution_count": 9,
   "metadata": {},
   "outputs": [],
   "source": [
    "# Задание 2\n",
    "# Дан поток дат в формате YYYY-MM-DD, в которых встречаются некорректные значения:\n",
    "# stream = [‘2018-04-02’, ‘2018-02-29’, ‘2018-19-02’]\n",
    "# Напишите функцию, которая проверяет эти даты на корректность. Т. е. для каждой даты возвращает True (дата корректна) \n",
    "# или False (некорректная дата).\n",
    "\n",
    "stream = ['2018-04-02', '2018-02-29', '2018-19-02']"
   ]
  },
  {
   "cell_type": "code",
   "execution_count": 10,
   "metadata": {},
   "outputs": [],
   "source": [
    "def is_date_correct(date):\n",
    "    try:\n",
    "        d_DT = datetime.strptime(d,'%Y-%m-%d')\n",
    "        return 'True'\n",
    "    except:\n",
    "        return 'False'"
   ]
  },
  {
   "cell_type": "code",
   "execution_count": 11,
   "metadata": {},
   "outputs": [
    {
     "name": "stdout",
     "output_type": "stream",
     "text": [
      "True\n",
      "False\n",
      "False\n"
     ]
    }
   ],
   "source": [
    "for d in stream:\n",
    "    print(is_date_correct(d))"
   ]
  },
  {
   "cell_type": "code",
   "execution_count": null,
   "metadata": {},
   "outputs": [],
   "source": [
    "# Задание 3\n",
    "# Напишите функцию date_range, которая возвращает список дат за период от start_date до end_date. \n",
    "# Даты должны вводиться в формате YYYY-MM-DD. В случае неверного формата или при start_date > end_date должен \n",
    "# возвращаться пустой список."
   ]
  },
  {
   "cell_type": "code",
   "execution_count": 12,
   "metadata": {},
   "outputs": [],
   "source": [
    "from datetime import timedelta\n",
    "def date_range(start_date, end_date):\n",
    "    date_range_lst =[]\n",
    "    if is_date_correct(start_date) and is_date_correct(end_date):\n",
    "        start_date_dt = datetime.strptime(start_date,'%Y-%m-%d')\n",
    "        end_date_dt = datetime.strptime(end_date,'%Y-%m-%d')\n",
    "        if not start_date_dt > end_date_dt:\n",
    "            current_date_dt = start_date_dt\n",
    "            while current_date_dt < end_date_dt:\n",
    "                date_range_lst.append(current_date_dt.strftime('%Y-%m-%d'))\n",
    "                current_date_dt += timedelta(days=1)\n",
    "    return date_range_lst"
   ]
  },
  {
   "cell_type": "code",
   "execution_count": 13,
   "metadata": {},
   "outputs": [
    {
     "name": "stdout",
     "output_type": "stream",
     "text": [
      "['2015-02-25', '2015-02-26', '2015-02-27', '2015-02-28', '2015-03-01', '2015-03-02', '2015-03-03', '2015-03-04', '2015-03-05', '2015-03-06', '2015-03-07']\n"
     ]
    }
   ],
   "source": [
    "dt_lst = []\n",
    "dt_lst = date_range('2015-02-25','2015-03-08')\n",
    "print(dt_lst)"
   ]
  },
  {
   "cell_type": "code",
   "execution_count": null,
   "metadata": {},
   "outputs": [],
   "source": [
    "# Задание 4 (бонусное)\n",
    "# Ваш коллега прислал код функции:\n",
    "\n",
    "DEFAULT_USER_COUNT = 3\n",
    "\n",
    "def delete_and_return_last_user(region, default_list=['A100', 'A101', 'A102']):\n",
    " \"\"\"\n",
    "Удаляет из списка default_list последнего пользователя\n",
    " и возвращает ID нового последнего пользователя.\n",
    " \"\"\"\n",
    "element_to_delete = default_list[-1]\n",
    "default_list.remove(element_to_delete)\n",
    "\n",
    "# 1\n",
    "# return default_list[DEFAULT_USER_COUNT-2]\n",
    "# При однократном вызове этой функции все работает корректно:\n",
    "# delete_and_return_last_user(1)\n",
    "# ‘A101’\n",
    "\n",
    "# Однако, при повторном вызове получается ошибка IndexError: list index out of range.\n",
    "\n",
    "# Задание:\n",
    "\n",
    "# Что значит ошибка list index out of range?\n",
    "\"\"\"\n",
    "Эта ошибка означает что индекс списка вышел из диапазона, т.е. элемента с таким индексом в данном списке не существует\n",
    "\"\"\"\n",
    "# Почему при первом запуске функция работает корректно, а при втором - нет?\n",
    "\"\"\"\n",
    "Изначально список состоял из трех элементов с индексами [0][1][2] - DEFAULT_USER_COUNT = 3. \n",
    "Функция  возвращает элемент с индексом DEFAULT_USER_COUNT-2 = 3-2 = 1, т.е. всегда возвращает второй элемент в списке.\n",
    "После первого вызова функции список содержит 2 элемента с индексами [0][1]. \n",
    "return default_list[DEFAULT_USER_COUNT-2] возвращает элемент с индексом [1]\n",
    "После второго вызова функции список уже содержит 1 элемент с индексом [0]\n",
    "return default_list[DEFAULT_USER_COUNT-2] снова должен вернуть элемент с индексом [1], которого уже нет.\n",
    "\"\"\"\n",
    "\n"
   ]
  },
  {
   "cell_type": "code",
   "execution_count": 73,
   "metadata": {},
   "outputs": [],
   "source": [
    "DEFAULT_USER_COUNT = 3\n",
    "\n",
    "def delete_and_return_last_user(region, default_list=['A100', 'A101', 'A102']):\n",
    "    \"\"\"\n",
    "    Удаляет из списка default_list последнего пользователя\n",
    "    и возвращает ID нового последнего пользователя.\n",
    "    \"\"\"\n",
    "    element_to_delete = default_list[-1]\n",
    "    default_list.remove(element_to_delete)\n",
    "    return default_list[DEFAULT_USER_COUNT-2]"
   ]
  },
  {
   "cell_type": "code",
   "execution_count": 74,
   "metadata": {},
   "outputs": [
    {
     "name": "stdout",
     "output_type": "stream",
     "text": [
      "A101\n"
     ]
    }
   ],
   "source": [
    "lst=[]\n",
    "lst = delete_and_return_last_user(1)\n",
    "print(lst)"
   ]
  }
 ],
 "metadata": {
  "kernelspec": {
   "display_name": "Python 3",
   "language": "python",
   "name": "python3"
  },
  "language_info": {
   "codemirror_mode": {
    "name": "ipython",
    "version": 3
   },
   "file_extension": ".py",
   "mimetype": "text/x-python",
   "name": "python",
   "nbconvert_exporter": "python",
   "pygments_lexer": "ipython3",
   "version": "3.8.5"
  }
 },
 "nbformat": 4,
 "nbformat_minor": 4
}
