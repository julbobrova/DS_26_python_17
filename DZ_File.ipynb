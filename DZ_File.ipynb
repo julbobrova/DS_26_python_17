{
 "cells": [
  {
   "cell_type": "code",
   "execution_count": 15,
   "metadata": {},
   "outputs": [
    {
     "name": "stdout",
     "output_type": "stream",
     "text": [
      "('1840e0b9d4', 'Продукты')\n",
      "('4e4f90fcfb', 'Электроника')\n",
      "('afea8d72fc', 'Электроника')\n",
      "('373a6055fe', 'Бытовая техника')\n",
      "('9b2ab046f3', 'Электроника')\n",
      "('9f39d307c3', 'Электроника')\n",
      "('44edeffc91', 'Продукты')\n"
     ]
    }
   ],
   "source": [
    "# Задание 1 Переведите содержимое файла purchase_log.txt в словарь purchases вида: {‘1840e0b9d4’: ‘Продукты’, …}\n",
    "\n",
    "#импорт библиотеки json\n",
    "import json \n",
    "\n",
    "with open('purchase_log.txt', 'r', encoding='utf-8') as fl:\n",
    "    #пропуск заголовка\n",
    "    fl.readline() \n",
    "    #Объявляем словарь\n",
    "    purchase_di={}\n",
    "    for fline in fl:\n",
    "        fline = fline.strip()\n",
    "        dicti_on = json.loads(fline)\n",
    "        #print(dicti_on, type(dicti_on))\n",
    "        purchase_di.setdefault(dicti_on['user_id'], dicti_on['category'])\n",
    "  \n",
    "#проверка словаря удалить в финале\n",
    "i = 0 \n",
    "for k in purchase_di.items():\n",
    "    print(k)\n",
    "    if i>5:\n",
    "        break\n",
    "    i +=1"
   ]
  },
  {
   "cell_type": "code",
   "execution_count": null,
   "metadata": {},
   "outputs": [],
   "source": [
    "# Задание 2. Для каждого user_id в файле visit_log.csv определите третий столбец с категорией покупки \n",
    "# (если покупка была, сам файл visit_log.csv изменять не надо). \n",
    "# Запишите в файл funnel.csv визиты из файла visit_log.csv, в которых были покупки с указанием категории.\n"
   ]
  },
  {
   "cell_type": "code",
   "execution_count": 43,
   "metadata": {},
   "outputs": [
    {
     "name": "stdout",
     "output_type": "stream",
     "text": [
      "Файл сформирован. Количество строк 13798 в файле\n"
     ]
    }
   ],
   "source": [
    "# открываем файл visit_log.csv для чтения данных\n",
    "i = 0 \n",
    "with open('visit_log.csv', 'r') as fvisit:\n",
    "    fvisit.readline() # пропуск заголовка\n",
    "    # открываем файл funnel.csv для записи данных\n",
    "    with open('funnel.csv', 'w') as ffunnel:\n",
    "        for vis_line in fvisit: \n",
    "            vis_line = vis_line.strip().split(',')\n",
    "            #проверка совершения покупки по id, формирование строки и запись в файл\n",
    "            if purchase_di.get(vis_line[0]) != None:\n",
    "                funnel_str = f'{vis_line[0]},{vis_line[1]},{purchase_di.get(vis_line[0])}\\n'\n",
    "                ffunnel.write(funnel_str)\n",
    "                i += 1\n",
    "print(f'Файл сформирован. {i} строк в файле')"
   ]
  }
 ],
 "metadata": {
  "kernelspec": {
   "display_name": "Python 3",
   "language": "python",
   "name": "python3"
  },
  "language_info": {
   "codemirror_mode": {
    "name": "ipython",
    "version": 3
   },
   "file_extension": ".py",
   "mimetype": "text/x-python",
   "name": "python",
   "nbconvert_exporter": "python",
   "pygments_lexer": "ipython3",
   "version": "3.8.5"
  }
 },
 "nbformat": 4,
 "nbformat_minor": 4
}
