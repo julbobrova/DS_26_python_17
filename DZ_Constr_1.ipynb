{
 "cells": [
  {
   "cell_type": "code",
   "execution_count": null,
   "metadata": {},
   "outputs": [],
   "source": [
    "# Задание №1\n",
    "user_word = input(\"Введите слово из ланиских букв \")\n",
    "if len(user_word)%2 == 0:\n",
    "    print (\"В середине cлова \"+ user_word[len(user_word)//2-1:len(user_word)//2+1])\n",
    "else:\n",
    "    print (\"В середине cлова \"+ user_word[len(user_word)//2]) "
   ]
  },
  {
   "cell_type": "code",
   "execution_count": 14,
   "metadata": {},
   "outputs": [
    {
     "name": "stdout",
     "output_type": "stream",
     "text": [
      "Введите число 0\n",
      "Сумма введенных чисел равна 0\n"
     ]
    }
   ],
   "source": [
    "# Задание №2\n",
    "number = int(input(\"Введите число \"))\n",
    "sumy = number\n",
    "while number != 0:\n",
    "    number = int(input(\"Введите число \"))\n",
    "    sumy = sumy+number\n",
    "print (\"Сумма введенных чисел равна \"+ str(sumy))"
   ]
  },
  {
   "cell_type": "code",
   "execution_count": null,
   "metadata": {},
   "outputs": [],
   "source": [
    "# Задание №3 входные данные\n",
    "# 1\n",
    "Peter,Alex,John,Arthur,Richard\n",
    "Kate,Liza,Kira,Emma,Trisha\n",
    "# 2\n",
    "Peter,Alex,John,Arthur,Richard,Michael\n",
    "Kate,Liza,Kira,Emma,Trisha"
   ]
  },
  {
   "cell_type": "code",
   "execution_count": 40,
   "metadata": {},
   "outputs": [
    {
     "name": "stdout",
     "output_type": "stream",
     "text": [
      "Введите имена парней через запятую Kate,Liza,Kira,Emma,Trisha\n",
      "Введите имена девушек через запятую Peter,Alex,John,Arthur,Richard\n",
      "[('Emma', 'Alex'), ('Kate', 'Arthur'), ('Kira', 'John'), ('Liza', 'Peter'), ('Trisha', 'Richard')]\n"
     ]
    }
   ],
   "source": [
    "# Задание №3\n",
    "Input_string = input(\"Введите имена парней через запятую \")\n",
    "Boys_list = Input_string.split(',')\n",
    "Input_string = input(\"Введите имена девушек через запятую \")\n",
    "Girls_list = Input_string.split(',')\n",
    "if len(Boys_list) != len(Girls_list):\n",
    "    print (\"Кто-то может остаться без пары\")\n",
    "else:\n",
    "    couples_list = zip(sorted(Boys_list), sorted(Girls_list))\n",
    "    print(list(couples_list))\n",
    "    "
   ]
  },
  {
   "cell_type": "code",
   "execution_count": 117,
   "metadata": {},
   "outputs": [
    {
     "data": {
      "text/plain": [
       "[['Thailand', [75.2, 77, 78.8, 73.4, 68, 75.2, 77]],\n",
       " ['Germany', [57.2, 55.4, 59, 59, 53.6]],\n",
       " ['Russia', [35.6, 37.4, 39.2, 41, 42.8, 39.2, 35.6]],\n",
       " ['Poland', [50, 50, 53.6, 57.2, 55.4, 55.4]]]"
      ]
     },
     "execution_count": 117,
     "metadata": {},
     "output_type": "execute_result"
    }
   ],
   "source": [
    "# Задание №4 входные данные\n",
    "countries_temperature = [\n",
    "['Thailand', [75.2, 77, 78.8, 73.4, 68, 75.2, 77]],\n",
    "['Germany', [57.2, 55.4, 59, 59, 53.6]],\n",
    "['Russia', [35.6, 37.4, 39.2, 41, 42.8, 39.2, 35.6]],\n",
    "['Poland', [50, 50, 53.6, 57.2, 55.4, 55.4]]\n",
    "]\n",
    "countries_temperature"
   ]
  },
  {
   "cell_type": "code",
   "execution_count": 124,
   "metadata": {},
   "outputs": [
    {
     "name": "stdout",
     "output_type": "stream",
     "text": [
      "Средняя температура в странах\n",
      "Thailand -  23.9 C\n",
      "Germany -  13.8 C\n",
      "Russia -  3.7 C\n",
      "Poland -  12.0 C\n"
     ]
    }
   ],
   "source": [
    "# Задание №4\n",
    "print(\"Средняя температура в странах\")\n",
    "for i_country  in range(len(countries_temperature)):\n",
    "     summy = 0\n",
    "     for i_temp in range(len(countries_temperature[i_country][1])):  \n",
    "          summy +=countries_temperature[i_country][1][i_temp] \n",
    "     print(f\"{countries_temperature[i_country][0]} -  {((summy/len(countries_temperature[i_country][1]))-32)/1.8:.1f} C\") \n"
   ]
  },
  {
   "cell_type": "code",
   "execution_count": null,
   "metadata": {},
   "outputs": [],
   "source": []
  }
 ],
 "metadata": {
  "kernelspec": {
   "display_name": "Python 3",
   "language": "python",
   "name": "python3"
  },
  "language_info": {
   "codemirror_mode": {
    "name": "ipython",
    "version": 3
   },
   "file_extension": ".py",
   "mimetype": "text/x-python",
   "name": "python",
   "nbconvert_exporter": "python",
   "pygments_lexer": "ipython3",
   "version": "3.8.5"
  }
 },
 "nbformat": 4,
 "nbformat_minor": 4
}
