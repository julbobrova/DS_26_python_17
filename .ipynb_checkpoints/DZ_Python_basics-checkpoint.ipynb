{
 "cells": [
  {
   "cell_type": "code",
   "execution_count": null,
   "metadata": {},
   "outputs": [],
   "source": [
    "#Задание 1\n",
    "phrase_1 = str(input('Введите фразу 1: '))\n",
    "phrase_2 = str(input('Введите фразу 2: '))\n",
    "if len(phrase_1)>len(phrase_2):\n",
    "    print('Фраза 1 длиннее фразы 2')\n",
    "elif len(phrase_1)<len(phrase_2): \n",
    "    print('Фраза 2 длиннее фразы 1')\n",
    "else: \n",
    "    print('Фраза 1 и фраза 2 одинаковы по длине')\n"
   ]
  },
  {
   "cell_type": "code",
   "execution_count": null,
   "metadata": {},
   "outputs": [],
   "source": [
    "#Задание 2\n",
    "year = int(input('Введите год: '))\n",
    "if (year%4)==0 and (year%100)!=0:\n",
    "    print('Год високосный') \n",
    "else:\n",
    "    print('Год не високосный')"
   ]
  },
  {
   "cell_type": "code",
   "execution_count": null,
   "metadata": {},
   "outputs": [],
   "source": [
    "#Задание 3\n",
    "date = int(input('Введите дату рождения: '))\n",
    "month = str(input('Введите месяц рождения: '))\n",
    "if (date >= 21 and month=='март') or (date <= 20 and month=='апрель'):    \n",
    "    print('Овен')\n",
    "if (date >= 21 and month=='апрель') or (date <= 21 and month=='май'):    \n",
    "    print('Телец')\n",
    "if (date >= 22 and month=='май') or (date <= 21 and month=='июнь'):    \n",
    "    print('Близнецы')\n",
    "if (date >= 22 and month=='июнь') or (date <= 22 and month=='июль'):    \n",
    "    print('Рак')\n",
    "if (date >= 23 and month=='июль') or (date <= 21 and month=='август'):    \n",
    "    print('Лев')\n",
    "if (date >= 22 and month=='август') or (date <= 23 and month=='сентябрь'):    \n",
    "    print('Дева')\n",
    "if (date >= 24 and month=='сентябрь') or (date <= 23 and month=='октябрь'):    \n",
    "    print('Весы')\n",
    "if (date >= 24 and month=='октябрь') or (date <= 22 and month=='ноябрь'):    \n",
    "    print('Скорпион')\n",
    "if (date >= 23 and month=='ноябрь') or (date <= 22 and month=='декабрь'):    \n",
    "    print('Стрелец')\n",
    "if (date >= 23 and month=='декабрь') or (date <= 20 and month=='январь'):    \n",
    "    print('Козерог')\n",
    "if (date >= 21 and month=='январь') or (date <= 19 and month=='февраль'):    \n",
    "    print('Водолей')\n",
    "if (date >= 20 and month=='февраль') or (date <= 20 and month=='март'):    \n",
    "    print('Рыбы')"
   ]
  },
  {
   "cell_type": "code",
   "execution_count": null,
   "metadata": {},
   "outputs": [],
   "source": [
    "#Задание 4\n",
    "width = int(input('Введите ширину товара в см: '))\n",
    "length = int(input('Введите длину товара в см: '))\n",
    "height = int(input('Введите высоту товара в см: '))\n",
    "if width<15 and length<15 and height<15:\n",
    "    print('Коробка №1') \n",
    "elif (width>=15 and width<50) or (length>=15 and length<50) or (height>=15 and height<50):\n",
    "    print('Коробка №2')\n",
    "elif width>=50 or (length>=50 and length<200) or height>50:\n",
    "    print('Коробка №3')\n",
    "else:\n",
    "    print('Упаковка для лыж')"
   ]
  },
  {
   "cell_type": "code",
   "execution_count": 42,
   "metadata": {},
   "outputs": [
    {
     "name": "stdout",
     "output_type": "stream",
     "text": [
      "Введите 6-ти значный номер билета: 123321\n",
      "Счастливый билет\n"
     ]
    }
   ],
   "source": [
    "#Задание 5\n",
    "x = int(input('Введите 6-ти значный номер билета: '))\n",
    "F = x // 100000 + x % 100000 // 10000 + x % 10000 // 1000 \n",
    "G = x % 1000 // 100 + x % 100 // 10 + x % 10 \n",
    "if F == G: \n",
    "    print('Счастливый билет')\n",
    "else:\n",
    "    print('Несчастливый билет')\n"
   ]
  },
  {
   "cell_type": "code",
   "execution_count": 48,
   "metadata": {},
   "outputs": [
    {
     "name": "stdout",
     "output_type": "stream",
     "text": [
      "Площадь какой фигуры будем вычислять (круг, треугольник, прямоугольник): квадрат\n",
      "Неизвестная фигура\n"
     ]
    }
   ],
   "source": [
    "#Задание 6\n",
    "Figure = str(input('Площадь какой фигуры будем вычислять (круг, треугольник, прямоугольник): '))\n",
    "if Figure == 'круг':\n",
    "    Radis = int(input('Введите радиус круга: '))  \n",
    "    S = 3.14 * Radis**2\n",
    "    print('Площадь круга: ', S)\n",
    "elif Figure == 'треугольник':\n",
    "    a = int(input('Введите длину первой стороны: '))  \n",
    "    b = int(input('Введите длину второй стороны: ')) \n",
    "    c = int(input('Введите длину третьей стороны: '))\n",
    "    p = (a+b+c)/2\n",
    "    S = (p*(p-a)*(p-b)*(p-c))**0.5\n",
    "    print('Площадь треугольника: ', S)\n",
    "elif Figure == 'прямоугольник':\n",
    "    a = int(input('Введите длину: '))  \n",
    "    b = int(input('Введите ширину: ')) \n",
    "    S = a*b\n",
    "    print('Площадь прямоугольника: ', S)\n",
    "else: \n",
    "    print('Неизвестная фигура')"
   ]
  },
  {
   "cell_type": "code",
   "execution_count": null,
   "metadata": {},
   "outputs": [],
   "source": []
  }
 ],
 "metadata": {
  "kernelspec": {
   "display_name": "Python 3",
   "language": "python",
   "name": "python3"
  },
  "language_info": {
   "codemirror_mode": {
    "name": "ipython",
    "version": 3
   },
   "file_extension": ".py",
   "mimetype": "text/x-python",
   "name": "python",
   "nbconvert_exporter": "python",
   "pygments_lexer": "ipython3",
   "version": "3.8.5"
  }
 },
 "nbformat": 4,
 "nbformat_minor": 4
}
